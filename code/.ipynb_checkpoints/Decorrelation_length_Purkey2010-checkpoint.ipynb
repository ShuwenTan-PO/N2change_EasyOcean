{
 "cells": [
  {
   "cell_type": "markdown",
   "id": "d7604fd3-6b90-4f7d-8bc5-0b35b6e92820",
   "metadata": {},
   "source": [
    "# Decorrelation lengths for trends and its distribution\n",
    "following the method from Purkey and Johnson (2010):\n",
    "\n",
    "\"...remove unsampled (masked) grid points, and then find the maximum of the integral of the spatially lagged autocovariance\n",
    "of the spatially detrended warming rate, following Johnson et al. (2008a). Twice this integral gives an estimate of the horizontal decorrelation length scale.\""
   ]
  },
  {
   "cell_type": "code",
   "execution_count": 1,
   "id": "44d022cb-e70c-41e4-beb6-fcb2a45195fe",
   "metadata": {
    "tags": []
   },
   "outputs": [],
   "source": [
    "%matplotlib inline\n",
    "import numpy as np\n",
    "import xarray as xr\n",
    "import scipy.io as sio\n",
    "import os\n",
    "import matplotlib.pyplot as plt\n",
    "\n",
    "import utils as utils\n",
    "from scipy import signal\n",
    "from scipy import stats"
   ]
  },
  {
   "cell_type": "code",
   "execution_count": 108,
   "id": "afafed4e-cb94-4d50-8d67-824e5f79954e",
   "metadata": {},
   "outputs": [],
   "source": [
    "def autocov(x, twosided=False, tapered=True):\n",
    "    \"\"\"\n",
    "    Return (lags, ac), where ac is the estimated autocorrelation \n",
    "    function for x, at the full set of possible lags.\n",
    "    \n",
    "    If twosided is True, all lags will be included;\n",
    "    otherwise (default), only non-negative lags will be included.\n",
    "\n",
    "    If tapered is True (default), the low-MSE estimate, linearly\n",
    "    tapered to zero for large lags, is returned.\n",
    "    \"\"\"\n",
    "    nx = len(x)\n",
    "    xdm = x - x.mean()\n",
    "    ac = np.correlate(xdm, xdm, mode='full')\n",
    "    lags = np.arange(-nx + 1, nx)\n",
    "    if not tapered:  # undo the built-in taper\n",
    "        taper = 1 - np.abs(lags) / float(nx)\n",
    "        ac /= taper\n",
    "    if twosided:\n",
    "        return lags, ac\n",
    "    else:\n",
    "        return lags[nx-1:], ac[nx-1:]"
   ]
  },
  {
   "cell_type": "code",
   "execution_count": 2,
   "id": "b06a8a6b-925a-4583-8e89-c03bbe882328",
   "metadata": {},
   "outputs": [],
   "source": [
    "def autocorr(x, twosided=False, tapered=True):\n",
    "    \"\"\"\n",
    "    Return (lags, ac), where ac is the estimated autocorrelation \n",
    "    function for x, at the full set of possible lags.\n",
    "    \n",
    "    If twosided is True, all lags will be included;\n",
    "    otherwise (default), only non-negative lags will be included.\n",
    "\n",
    "    If tapered is True (default), the low-MSE estimate, linearly\n",
    "    tapered to zero for large lags, is returned.\n",
    "    \"\"\"\n",
    "    nx = len(x)\n",
    "    xdm = x - x.mean()\n",
    "    ac = np.correlate(xdm, xdm, mode='full')\n",
    "    ac /= ac[nx - 1]\n",
    "    lags = np.arange(-nx + 1, nx)\n",
    "    if not tapered:  # undo the built-in taper\n",
    "        taper = 1 - np.abs(lags) / float(nx)\n",
    "        ac /= taper\n",
    "    if twosided:\n",
    "        return lags, ac\n",
    "    else:\n",
    "        return lags[nx-1:], ac[nx-1:]"
   ]
  },
  {
   "cell_type": "code",
   "execution_count": 66,
   "id": "7d0b08e0-5408-4f0c-bbd1-8d1587fa1d54",
   "metadata": {},
   "outputs": [],
   "source": [
    "def decorr_len(auto_corr, lags, method=True):\n",
    "    \"\"\"\n",
    "    Return deco_len, \n",
    "    method = True: doubling the maximum of the integration of auto_correlation \n",
    "    method = False: output integration\n",
    "    \n",
    "    auto_corr: start from 1, autocorrelation of zero lag\n",
    "    lags: start from zero leg\n",
    "    \"\"\"\n",
    "    \n",
    "    deco_lens = np.zeros(len(auto_corr),)\n",
    "    for i in range(len(deco_lens)):\n",
    "        deco_lens[i]=np.trapz(auto_corr[:i+1],lags[:i+1])\n",
    "#     deco_lens = np.cumsum(auto_corr)*np.diff(lags)[0]\n",
    "    if method:\n",
    "        deco_len = np.max(deco_lens)*2\n",
    "    else:\n",
    "        deco_len = deco_lens\n",
    "        \n",
    "    return deco_len"
   ]
  },
  {
   "cell_type": "code",
   "execution_count": 87,
   "id": "153fe213-bd9b-40ac-85b9-8370d7b046f1",
   "metadata": {},
   "outputs": [
    {
     "data": {
      "text/plain": [
       "(43.17588605994577,\n",
       " 47.33091714427905,\n",
       " ModeResult(mode=array([26.22877339]), count=array([1])))"
      ]
     },
     "execution_count": 87,
     "metadata": {},
     "output_type": "execute_result"
    },
    {
     "data": {
      "image/png": "[encoded data removed]",
      "text/plain": [
       "<Figure size 432x288 with 1 Axes>"
      ]
     },
     "metadata": {
      "needs_background": "light"
     },
     "output_type": "display_data"
    }
   ],
   "source": [
    "# test with randams \n",
    "decorr_rand = np.zeros(50000,)\n",
    "n=120\n",
    "for i in range(len(decorr_rand)):\n",
    "    var_rand = signal.detrend(np.random.rand(n))\n",
    "    var_rand_auto_lag_, var_rand_auto_ = autocorr(var_rand)\n",
    "    var_rand_auto_lag_*=40\n",
    "    decorr_rand[i]=decorr_len(var_rand_auto_,var_rand_auto_lag_) \n",
    "\n",
    "plt.hist(decorr_rand, bins=20)#, range=(0,40))\n",
    "np.nanmedian(decorr_rand), np.nanmean(decorr_rand), stats.mode(decorr_rand)"
   ]
  },
  {
   "cell_type": "code",
   "execution_count": 88,
   "id": "fbe635fc-707f-450a-b644-19062af972d8",
   "metadata": {},
   "outputs": [
    {
     "data": {
      "text/plain": [
       "26.292955514855993"
      ]
     },
     "execution_count": 88,
     "metadata": {},
     "output_type": "execute_result"
    },
    {
     "data": {
      "image/png": "[encoded data removed]",
      "text/plain": [
       "<Figure size 432x288 with 1 Axes>"
      ]
     },
     "metadata": {
      "needs_background": "light"
     },
     "output_type": "display_data"
    }
   ],
   "source": [
    "plt.plot(var_rand_auto_lag_, decorr_len(var_rand_auto_, var_rand_auto_lag_, False))\n",
    "plt.plot(var_rand_auto_lag_, np.cumsum(var_rand_auto_)*40)\n",
    "\n",
    "np.max( decorr_len(var_rand_auto_, var_rand_auto_lag_, False))"
   ]
  },
  {
   "cell_type": "code",
   "execution_count": 112,
   "id": "d28d627c-b3be-407b-b170-452affd58c3a",
   "metadata": {},
   "outputs": [
    {
     "data": {
      "text/plain": [
       "(426.9469428684745,\n",
       " 465.52229633880444,\n",
       " ModeResult(mode=array([210.56289147]), count=array([1])))"
      ]
     },
     "execution_count": 112,
     "metadata": {},
     "output_type": "execute_result"
    },
    {
     "data": {
      "image/png": "[encoded data removed]",
      "text/plain": [
       "<Figure size 432x288 with 1 Axes>"
      ]
     },
     "metadata": {
      "needs_background": "light"
     },
     "output_type": "display_data"
    }
   ],
   "source": [
    "# test with randams \n",
    "decorr_rand = np.zeros(50000,)\n",
    "n=120\n",
    "for i in range(len(decorr_rand)):\n",
    "    var_rand = signal.detrend(np.random.rand(n))\n",
    "    var_rand_auto_lag_, var_rand_auto_ = autocov(var_rand)\n",
    "    var_rand_auto_lag_*=40\n",
    "    decorr_rand[i]=decorr_len(var_rand_auto_,var_rand_auto_lag_) \n",
    "\n",
    "plt.hist(decorr_rand, bins=20)#, range=(0,40))\n",
    "np.nanmedian(decorr_rand), np.nanmean(decorr_rand), stats.mode(decorr_rand)"
   ]
  },
  {
   "cell_type": "code",
   "execution_count": 113,
   "id": "70228676-e8a5-4baf-b4d3-a63f66b36d72",
   "metadata": {},
   "outputs": [
    {
     "data": {
      "text/plain": [
       "195.41667936889354"
      ]
     },
     "execution_count": 113,
     "metadata": {},
     "output_type": "execute_result"
    },
    {
     "data": {
      "image/png": "[encoded data removed]",
      "text/plain": [
       "<Figure size 432x288 with 1 Axes>"
      ]
     },
     "metadata": {
      "needs_background": "light"
     },
     "output_type": "display_data"
    }
   ],
   "source": [
    "plt.plot(var_rand_auto_lag_, decorr_len(var_rand_auto_, var_rand_auto_lag_, False))\n",
    "plt.plot(var_rand_auto_lag_, np.cumsum(var_rand_auto_)*40)\n",
    "\n",
    "np.max( decorr_len(var_rand_auto_, var_rand_auto_lag_, False))"
   ]
  },
  {
   "cell_type": "markdown",
   "id": "b2f77786-debb-421f-8738-a95d5cfbc2d8",
   "metadata": {},
   "source": [
    "## N2"
   ]
  },
  {
   "cell_type": "markdown",
   "id": "53fcda5d-1743-4a37-b77a-9a7a13ac68f6",
   "metadata": {},
   "source": [
    "### all depth"
   ]
  },
  {
   "cell_type": "code",
   "execution_count": 69,
   "id": "f4d8fdf6-a27a-4a87-8cbc-251dd11dd8cd",
   "metadata": {},
   "outputs": [],
   "source": [
    "# how long the vertical profile is\n",
    "datafilepath = '/Users/stan/Desktop/WORK/DATA/GOSHIP/EasyOcean/gridded/'\n",
    "count = 0\n",
    "for filename_ in os.listdir(datafilepath):\n",
    "    if (filename_.endswith(\"_withtrend.nc\")):  \n",
    "        Data = xr.open_dataset(datafilepath + filename_)\n",
    "\n",
    "        var_notnan_len = np.zeros(len(Data.LL_st), ) + np.nan\n",
    "        for i in range(len(Data.LL_st)):\n",
    "            var = Data.trend_N2_mean[i,::-1].data[~np.isnan(Data.trend_N2_mean[i,::-1]).data]\n",
    "            if len(var)>2:\n",
    "                var_notnan_len[i] = len(var)\n",
    "        \n",
    "        if count == 0:\n",
    "            var_notnan_len_ = var_notnan_len.copy()\n",
    "        else:\n",
    "            np.append(var_notnan_len_, var_notnan_len)\n",
    "            \n",
    "        count += 1"
   ]
  },
  {
   "cell_type": "code",
   "execution_count": 70,
   "id": "c39d2b13-ba30-4002-9caf-39104893fc91",
   "metadata": {},
   "outputs": [
    {
     "data": {
      "text/plain": [
       "(123.0, 119.43578767123287)"
      ]
     },
     "execution_count": 70,
     "metadata": {},
     "output_type": "execute_result"
    },
    {
     "data": {
      "image/png": "[encoded data removed]",
      "text/plain": [
       "<Figure size 432x288 with 1 Axes>"
      ]
     },
     "metadata": {
      "needs_background": "light"
     },
     "output_type": "display_data"
    }
   ],
   "source": [
    "plt.hist(var_notnan_len_, bins=20, range=(0,200))\n",
    "np.nanmedian(var_notnan_len_), np.nanmean(var_notnan_len_)"
   ]
  },
  {
   "cell_type": "code",
   "execution_count": 71,
   "id": "9ba5b9fa-7efc-410c-b738-8f7760b8d623",
   "metadata": {},
   "outputs": [],
   "source": [
    "datafilepath = '/Users/stan/Desktop/WORK/DATA/GOSHIP/EasyOcean/gridded/'\n",
    "count = 0\n",
    "for filename_ in os.listdir(datafilepath):\n",
    "    if (filename_.endswith(\"_withtrend.nc\")):  \n",
    "        Data = xr.open_dataset(datafilepath + filename_)\n",
    "\n",
    "        var_decorr_len = np.zeros(len(Data.LL_st), ) + np.nan\n",
    "        for i in range(len(Data.LL_st)):\n",
    "            var = Data.trend_N2_mean[i,::-1].data[~np.isnan(Data.trend_N2_mean[i,::-1]).data]\n",
    "            if len(var)>2:\n",
    "                var_ = signal.detrend(var)\n",
    "                var_auto_lag_, var_auto_ = autocorr(var_)\n",
    "                var_lag_dist = var_auto_lag_*np.diff(Data.z_N2)[0] # unit m\n",
    "                var_decorr_len[i] = decorr_len(var_auto_, var_lag_dist)\n",
    "        \n",
    "        if count == 0:\n",
    "            var_decorr_len_ = var_decorr_len.copy()\n",
    "        else:\n",
    "            np.append(var_decorr_len_, var_decorr_len)\n",
    "            \n",
    "        count += 1"
   ]
  },
  {
   "cell_type": "code",
   "execution_count": 74,
   "id": "f3151998-4d6d-4322-b936-fa8f3e0d2d7a",
   "metadata": {},
   "outputs": [
    {
     "data": {
      "text/plain": [
       "(72.28862184273238,\n",
       " 78.77660454667765,\n",
       " ModeResult(mode=array([26.38051754]), count=array([1])))"
      ]
     },
     "execution_count": 74,
     "metadata": {},
     "output_type": "execute_result"
    },
    {
     "data": {
      "image/png": "[encoded data removed]",
      "text/plain": [
       "<Figure size 432x288 with 1 Axes>"
      ]
     },
     "metadata": {
      "needs_background": "light"
     },
     "output_type": "display_data"
    }
   ],
   "source": [
    "plt.hist(var_decorr_len_, bins=20, range=(0,400))\n",
    "np.nanmedian(var_decorr_len_), np.nanmean(var_decorr_len_), stats.mode(decorr_rand)"
   ]
  },
  {
   "cell_type": "markdown",
   "id": "d55f7830-13f5-4660-8257-873700ed6c27",
   "metadata": {},
   "source": [
    "### below 2000 m"
   ]
  },
  {
   "cell_type": "code",
   "execution_count": 75,
   "id": "0e79c705-3c1c-4fb4-8192-f1b69ef4fb18",
   "metadata": {},
   "outputs": [],
   "source": [
    "# how long the vertical profile is\n",
    "datafilepath = '/Users/stan/Desktop/WORK/DATA/GOSHIP/EasyOcean/gridded/'\n",
    "count = 0\n",
    "for filename_ in os.listdir(datafilepath):\n",
    "    if (filename_.endswith(\"_withtrend.nc\")):  \n",
    "        Data = xr.open_dataset(datafilepath + filename_)\n",
    "\n",
    "        var_notnan_len = np.zeros(len(Data.LL_st), ) + np.nan\n",
    "        for i in range(len(Data.LL_st)):\n",
    "            var = Data.trend_N2_mean[i,Data.z_N2>=2000].data[~np.isnan(Data.trend_N2_mean[i,Data.z_N2>=2000]).data]\n",
    "            if len(var)>2:\n",
    "                var_notnan_len[i] = len(var)\n",
    "        \n",
    "        if count == 0:\n",
    "            var_notnan_len_ = var_notnan_len.copy()\n",
    "        else:\n",
    "            np.append(var_notnan_len_, var_notnan_len)\n",
    "            \n",
    "        count += 1"
   ]
  },
  {
   "cell_type": "code",
   "execution_count": 76,
   "id": "93f25643-0160-4e36-81e0-50310ce0e152",
   "metadata": {},
   "outputs": [
    {
     "data": {
      "text/plain": [
       "(75.0, 74.20409982174688)"
      ]
     },
     "execution_count": 76,
     "metadata": {},
     "output_type": "execute_result"
    },
    {
     "data": {
      "image/png": "[encoded data removed]",
      "text/plain": [
       "<Figure size 432x288 with 1 Axes>"
      ]
     },
     "metadata": {
      "needs_background": "light"
     },
     "output_type": "display_data"
    }
   ],
   "source": [
    "plt.hist(var_notnan_len_, bins=20, range=(0,200))\n",
    "np.nanmedian(var_notnan_len_), np.nanmean(var_notnan_len_)"
   ]
  },
  {
   "cell_type": "code",
   "execution_count": 78,
   "id": "b4e75ee3-9a2e-4372-bef8-0e09586cc857",
   "metadata": {},
   "outputs": [],
   "source": [
    "datafilepath = '/Users/stan/Desktop/WORK/DATA/GOSHIP/EasyOcean/gridded/'\n",
    "count = 0\n",
    "for filename_ in os.listdir(datafilepath):\n",
    "    if (filename_.endswith(\"_withtrend.nc\")):  \n",
    "        Data = xr.open_dataset(datafilepath + filename_)\n",
    "\n",
    "        var_decorr_len = np.zeros(len(Data.LL_st), ) + np.nan\n",
    "        for i in range(len(Data.LL_st)):\n",
    "            var = Data.trend_N2_mean[i,Data.z_N2>=2000].data[~np.isnan(Data.trend_N2_mean[i,Data.z_N2>=2000]).data]\n",
    "            if len(var)>2:\n",
    "                var_ = signal.detrend(var[::-1])\n",
    "                var_auto_lag_, var_auto_ = autocorr(var_)\n",
    "                var_lag_dist = var_auto_lag_*np.diff(Data.z_N2)[0] # unit m\n",
    "                var_decorr_len[i] = decorr_len(var_auto_, var_lag_dist)\n",
    "        \n",
    "        if count == 0:\n",
    "            var_decorr_len_ = var_decorr_len.copy()\n",
    "        else:\n",
    "            np.append(var_decorr_len_, var_decorr_len)\n",
    "            \n",
    "        count += 1"
   ]
  },
  {
   "cell_type": "code",
   "execution_count": 79,
   "id": "202b6fb9-a67f-469a-861a-9109122c0bcc",
   "metadata": {},
   "outputs": [
    {
     "data": {
      "text/plain": [
       "(74.52489554437236,\n",
       " 81.23311277485736,\n",
       " ModeResult(mode=array([26.38051754]), count=array([1])))"
      ]
     },
     "execution_count": 79,
     "metadata": {},
     "output_type": "execute_result"
    },
    {
     "data": {
      "image/png": "[encoded data removed]",
      "text/plain": [
       "<Figure size 432x288 with 1 Axes>"
      ]
     },
     "metadata": {
      "needs_background": "light"
     },
     "output_type": "display_data"
    }
   ],
   "source": [
    "plt.hist(var_decorr_len_, bins=20, range=(0,400))\n",
    "np.nanmedian(var_decorr_len_), np.nanmean(var_decorr_len_), stats.mode(decorr_rand)"
   ]
  },
  {
   "cell_type": "markdown",
   "id": "eb34de4c-f40b-4c2c-bb03-eae878a2de53",
   "metadata": {},
   "source": [
    "## CT"
   ]
  },
  {
   "cell_type": "markdown",
   "id": "d30b7518-969a-48be-8341-09038cdb629d",
   "metadata": {},
   "source": [
    "### all depth"
   ]
  },
  {
   "cell_type": "code",
   "execution_count": 80,
   "id": "d6ec09a4-f026-427f-afe2-b5d915934e87",
   "metadata": {},
   "outputs": [
    {
     "data": {
      "text/plain": [
       "(160.3988846386933,\n",
       " 214.37950430083745,\n",
       " ModeResult(mode=array([26.38051754]), count=array([1])))"
      ]
     },
     "execution_count": 80,
     "metadata": {},
     "output_type": "execute_result"
    },
    {
     "data": {
      "image/png": "[encoded data removed]",
      "text/plain": [
       "<Figure size 432x288 with 1 Axes>"
      ]
     },
     "metadata": {
      "needs_background": "light"
     },
     "output_type": "display_data"
    }
   ],
   "source": [
    "datafilepath = '/Users/stan/Desktop/WORK/DATA/GOSHIP/EasyOcean/gridded/'\n",
    "count = 0\n",
    "for filename_ in os.listdir(datafilepath):\n",
    "    if (filename_.endswith(\"_withtrend.nc\")):  \n",
    "        Data = xr.open_dataset(datafilepath + filename_)\n",
    "\n",
    "        var_decorr_len = np.zeros(len(Data.LL_st), ) + np.nan\n",
    "        for i in range(len(Data.LL_st)):\n",
    "            var = Data.trend_CT_mean[i,::-1].data[~np.isnan(Data.trend_CT_mean[i,::-1]).data]\n",
    "            if len(var)>2:\n",
    "                var_ = signal.detrend(var)\n",
    "                var_auto_lag_, var_auto_ = autocorr(var_)\n",
    "                var_lag_dist = var_auto_lag_*np.diff(Data.z_N2)[0] # unit m\n",
    "                var_decorr_len[i] = decorr_len(var_auto_, var_lag_dist)\n",
    "        \n",
    "        if count == 0:\n",
    "            var_decorr_len_ = var_decorr_len.copy()\n",
    "        else:\n",
    "            np.append(var_decorr_len_, var_decorr_len)\n",
    "            \n",
    "        count += 1\n",
    "        \n",
    "plt.hist(var_decorr_len_, bins=20, range=(0,400))\n",
    "np.nanmedian(var_decorr_len_), np.nanmean(var_decorr_len_), stats.mode(decorr_rand)"
   ]
  },
  {
   "cell_type": "markdown",
   "id": "64e11a37-a64b-48b8-97d3-f92520a93fa0",
   "metadata": {},
   "source": [
    "### below 2000 m"
   ]
  },
  {
   "cell_type": "code",
   "execution_count": 82,
   "id": "e6155181-83bd-4e1c-a63f-8bb89dfaf370",
   "metadata": {},
   "outputs": [
    {
     "data": {
      "text/plain": [
       "(354.23210927350044,\n",
       " 376.84694396388903,\n",
       " ModeResult(mode=array([26.38051754]), count=array([1])))"
      ]
     },
     "execution_count": 82,
     "metadata": {},
     "output_type": "execute_result"
    },
    {
     "data": {
      "image/png": "[encoded data removed]",
      "text/plain": [
       "<Figure size 432x288 with 1 Axes>"
      ]
     },
     "metadata": {
      "needs_background": "light"
     },
     "output_type": "display_data"
    }
   ],
   "source": [
    "datafilepath = '/Users/stan/Desktop/WORK/DATA/GOSHIP/EasyOcean/gridded/'\n",
    "count = 0\n",
    "for filename_ in os.listdir(datafilepath):\n",
    "    if (filename_.endswith(\"_withtrend.nc\")):  \n",
    "        Data = xr.open_dataset(datafilepath + filename_)\n",
    "\n",
    "        var_decorr_len = np.zeros(len(Data.LL_st), ) + np.nan\n",
    "        for i in range(len(Data.LL_st)):\n",
    "            var = Data.trend_CT_mean[i,Data.z_N2>=2000].data[~np.isnan(Data.trend_CT_mean[i,Data.z_N2>=2000]).data]\n",
    "            if len(var)>2:\n",
    "                var_ = signal.detrend(var[::-1])\n",
    "                var_auto_lag_, var_auto_ = autocorr(var_)\n",
    "                var_lag_dist = var_auto_lag_*np.diff(Data.z_N2)[0] # unit m\n",
    "                var_decorr_len[i] = decorr_len(var_auto_, var_lag_dist)\n",
    "        \n",
    "        if count == 0:\n",
    "            var_decorr_len_ = var_decorr_len.copy()\n",
    "        else:\n",
    "            np.append(var_decorr_len_, var_decorr_len)\n",
    "            \n",
    "        count += 1\n",
    "        \n",
    "plt.hist(var_decorr_len_, bins=20, range=(0,800))\n",
    "np.nanmedian(var_decorr_len_), np.nanmean(var_decorr_len_), stats.mode(decorr_rand)"
   ]
  },
  {
   "cell_type": "markdown",
   "id": "93d9e4b9-8769-4105-9e34-5f503911398b",
   "metadata": {},
   "source": [
    "## Horizontal decorr_len"
   ]
  },
  {
   "cell_type": "markdown",
   "id": "73c8c9a3-3999-4dc3-a935-23d9c681a4f8",
   "metadata": {},
   "source": [
    "### N2"
   ]
  },
  {
   "cell_type": "code",
   "execution_count": 83,
   "id": "30c80321-7824-494d-bf1e-19abfaa119ed",
   "metadata": {},
   "outputs": [
    {
     "data": {
      "text/plain": [
       "(146.66555588359935,\n",
       " 169.4138748545065,\n",
       " ModeResult(mode=array([26.38051754]), count=array([1])))"
      ]
     },
     "execution_count": 83,
     "metadata": {},
     "output_type": "execute_result"
    },
    {
     "data": {
      "image/png": "[encoded data removed]",
      "text/plain": [
       "<Figure size 432x288 with 1 Axes>"
      ]
     },
     "metadata": {
      "needs_background": "light"
     },
     "output_type": "display_data"
    }
   ],
   "source": [
    "datafilepath = '/Users/stan/Desktop/WORK/DATA/GOSHIP/EasyOcean/gridded/'\n",
    "count = 0\n",
    "for filename_ in os.listdir(datafilepath):\n",
    "    if (filename_.endswith(\"_withtrend.nc\")):  \n",
    "        Data = xr.open_dataset(datafilepath + filename_)\n",
    "\n",
    "        var_decorr_len = np.zeros(len(Data.z_N2), ) + np.nan\n",
    "        for i in range(len(Data.z_N2)):\n",
    "            var = Data.trend_N2_mean[:,i].data[~np.isnan(Data.trend_N2_mean[:,i]).data]\n",
    "#             if (len(var)>2) & (Data.z_N2[i]>=2000):\n",
    "            if (len(var)>2):\n",
    "                var_ = signal.detrend(var)\n",
    "                var_auto_lag_, var_auto_ = autocorr(var_)\n",
    "                var_lag_dist = var_auto_lag_*np.abs(np.diff(Data.LL_st)[0])*111 # unit km\n",
    "                var_decorr_len[i] = decorr_len(var_auto_, var_lag_dist)\n",
    "        \n",
    "        if count == 0:\n",
    "            var_decorr_len_ = var_decorr_len.copy()\n",
    "        else:\n",
    "            np.append(var_decorr_len_, var_decorr_len)\n",
    "            \n",
    "        count += 1\n",
    "        \n",
    "        \n",
    "plt.hist(var_decorr_len_, bins=20, range=(0,800))\n",
    "np.nanmedian(var_decorr_len_), np.nanmean(var_decorr_len_), stats.mode(decorr_rand)"
   ]
  },
  {
   "cell_type": "code",
   "execution_count": 86,
   "id": "feb046b0-869d-4636-aa54-9cd0af9e4352",
   "metadata": {},
   "outputs": [
    {
     "data": {
      "text/plain": [
       "(136.95667271431125,\n",
       " 141.65355056918565,\n",
       " ModeResult(mode=array([26.38051754]), count=array([1])))"
      ]
     },
     "execution_count": 86,
     "metadata": {},
     "output_type": "execute_result"
    },
    {
     "data": {
      "image/png": "[encoded data removed]",
      "text/plain": [
       "<Figure size 432x288 with 1 Axes>"
      ]
     },
     "metadata": {
      "needs_background": "light"
     },
     "output_type": "display_data"
    }
   ],
   "source": [
    "datafilepath = '/Users/stan/Desktop/WORK/DATA/GOSHIP/EasyOcean/gridded/'\n",
    "count = 0\n",
    "for filename_ in os.listdir(datafilepath):\n",
    "    if (filename_.endswith(\"_withtrend.nc\")):  \n",
    "        Data = xr.open_dataset(datafilepath + filename_)\n",
    "\n",
    "        var_decorr_len = np.zeros(len(Data.z_N2), ) + np.nan\n",
    "        for i in range(len(Data.z_N2)):\n",
    "            var = Data.trend_N2_mean[:,i].data[~np.isnan(Data.trend_N2_mean[:,i]).data]\n",
    "            if (len(var)>2) & (Data.z_N2[i]>=2000):\n",
    "#             if (len(var)>2):\n",
    "                var_ = signal.detrend(var)\n",
    "                var_auto_lag_, var_auto_ = autocorr(var_)\n",
    "                var_lag_dist = var_auto_lag_*np.abs(np.diff(Data.LL_st)[0])*111 # unit km\n",
    "                var_decorr_len[i] = decorr_len(var_auto_, var_lag_dist)\n",
    "        \n",
    "        if count == 0:\n",
    "            var_decorr_len_ = var_decorr_len.copy()\n",
    "        else:\n",
    "            np.append(var_decorr_len_, var_decorr_len)\n",
    "            \n",
    "        count += 1\n",
    "        \n",
    "        \n",
    "plt.hist(var_decorr_len_, bins=20, range=(0,800))\n",
    "np.nanmedian(var_decorr_len_), np.nanmean(var_decorr_len_), stats.mode(decorr_rand)"
   ]
  },
  {
   "cell_type": "markdown",
   "id": "76886ad8-147e-4261-b773-499b59e26b59",
   "metadata": {},
   "source": [
    "### CT"
   ]
  },
  {
   "cell_type": "code",
   "execution_count": 84,
   "id": "c9d08211-56ef-4b91-8ea0-c94ce583a9e1",
   "metadata": {},
   "outputs": [
    {
     "data": {
      "text/plain": [
       "(254.54340210037836,\n",
       " 259.3877712440889,\n",
       " ModeResult(mode=array([26.38051754]), count=array([1])))"
      ]
     },
     "execution_count": 84,
     "metadata": {},
     "output_type": "execute_result"
    },
    {
     "data": {
      "image/png": "[encoded data removed]",
      "text/plain": [
       "<Figure size 432x288 with 1 Axes>"
      ]
     },
     "metadata": {
      "needs_background": "light"
     },
     "output_type": "display_data"
    }
   ],
   "source": [
    "datafilepath = '/Users/stan/Desktop/WORK/DATA/GOSHIP/EasyOcean/gridded/'\n",
    "count = 0\n",
    "for filename_ in os.listdir(datafilepath):\n",
    "    if (filename_.endswith(\"_withtrend.nc\")):  \n",
    "        Data = xr.open_dataset(datafilepath + filename_)\n",
    "\n",
    "        var_decorr_len = np.zeros(len(Data.z_N2), ) + np.nan\n",
    "        for i in range(len(Data.z_N2)):\n",
    "            var = Data.trend_CT_mean[:,i].data[~np.isnan(Data.trend_CT_mean[:,i]).data]\n",
    "#             if (len(var)>2) & (Data.z_N2[i]>=2000):\n",
    "            if (len(var)>2):\n",
    "                var_ = signal.detrend(var)\n",
    "                var_auto_lag_, var_auto_ = autocorr(var_)\n",
    "                var_lag_dist = var_auto_lag_*np.abs(np.diff(Data.LL_st)[0])*111 # unit km\n",
    "                var_decorr_len[i] = decorr_len(var_auto_, var_lag_dist)\n",
    "        \n",
    "        if count == 0:\n",
    "            var_decorr_len_ = var_decorr_len.copy()\n",
    "        else:\n",
    "            np.append(var_decorr_len_, var_decorr_len)\n",
    "            \n",
    "        count += 1\n",
    "        \n",
    "        \n",
    "plt.hist(var_decorr_len_, bins=20, range=(0,800))\n",
    "np.nanmedian(var_decorr_len_), np.nanmean(var_decorr_len_), stats.mode(decorr_rand)"
   ]
  },
  {
   "cell_type": "code",
   "execution_count": 85,
   "id": "cdc30db4-7ee3-483e-bd40-036138dbd3c4",
   "metadata": {},
   "outputs": [
    {
     "data": {
      "text/plain": [
       "(225.54983713599387,\n",
       " 221.8539393066302,\n",
       " ModeResult(mode=array([26.38051754]), count=array([1])))"
      ]
     },
     "execution_count": 85,
     "metadata": {},
     "output_type": "execute_result"
    },
    {
     "data": {
      "image/png": "[encoded data removed]",
      "text/plain": [
       "<Figure size 432x288 with 1 Axes>"
      ]
     },
     "metadata": {
      "needs_background": "light"
     },
     "output_type": "display_data"
    }
   ],
   "source": [
    "datafilepath = '/Users/stan/Desktop/WORK/DATA/GOSHIP/EasyOcean/gridded/'\n",
    "count = 0\n",
    "for filename_ in os.listdir(datafilepath):\n",
    "    if (filename_.endswith(\"_withtrend.nc\")):  \n",
    "        Data = xr.open_dataset(datafilepath + filename_)\n",
    "\n",
    "        var_decorr_len = np.zeros(len(Data.z_N2), ) + np.nan\n",
    "        for i in range(len(Data.z_N2)):\n",
    "            var = Data.trend_CT_mean[:,i].data[~np.isnan(Data.trend_CT_mean[:,i]).data]\n",
    "            if (len(var)>2) & (Data.z_N2[i]>=2000):\n",
    "#             if (len(var)>2):\n",
    "                var_ = signal.detrend(var)\n",
    "                var_auto_lag_, var_auto_ = autocorr(var_)\n",
    "                var_lag_dist = var_auto_lag_*np.abs(np.diff(Data.LL_st)[0])*111 # unit km\n",
    "                var_decorr_len[i] = decorr_len(var_auto_, var_lag_dist)\n",
    "        \n",
    "        if count == 0:\n",
    "            var_decorr_len_ = var_decorr_len.copy()\n",
    "        else:\n",
    "            np.append(var_decorr_len_, var_decorr_len)\n",
    "            \n",
    "        count += 1\n",
    "        \n",
    "        \n",
    "plt.hist(var_decorr_len_, bins=20, range=(0,800))\n",
    "np.nanmedian(var_decorr_len_), np.nanmean(var_decorr_len_), stats.mode(decorr_rand)"
   ]
  },
  {
   "cell_type": "code",
   "execution_count": null,
   "id": "2e30e463-50da-428d-ab1a-2fc550b0dea8",
   "metadata": {},
   "outputs": [],
   "source": []
  }
 ],
 "metadata": {
  "kernelspec": {
   "display_name": "goship",
   "language": "python",
   "name": "goship"
  },
  "language_info": {
   "codemirror_mode": {
    "name": "ipython",
    "version": 3
   },
   "file_extension": ".py",
   "mimetype": "text/x-python",
   "name": "python",
   "nbconvert_exporter": "python",
   "pygments_lexer": "ipython3",
   "version": "3.9.6"
  }
 },
 "nbformat": 4,
 "nbformat_minor": 5
}

{
 "cells": [
  {
   "cell_type": "markdown",
   "id": "f9561a16-8af4-45c2-af14-73282e6ccdaa",
   "metadata": {},
   "source": [
    "# Compare N2 decadal change in the global ocean using EasyOcean data"
   ]
  },
  {
   "cell_type": "markdown",
   "id": "80142c24-ed76-46cf-a833-ebfa1c0312ee",
   "metadata": {},
   "source": [
    "same as \\_block but compute N2 trend at all vertical grids intead of take bin-average"
   ]
  },
  {
   "cell_type": "code",
   "execution_count": 1,
   "id": "42f2657a-46a9-48fd-a4e3-14ee02d6ed10",
   "metadata": {},
   "outputs": [],
   "source": [
    "%matplotlib inline\n",
    "import numpy as np\n",
    "import xarray as xr\n",
    "import scipy.io as sio\n",
    "import os\n",
    "import matplotlib.pyplot as plt\n",
    "\n",
    "import utils as utils"
   ]
  },
  {
   "cell_type": "markdown",
   "id": "2dc98d14-4e43-48dd-9e1f-50dd02007405",
   "metadata": {},
   "source": [
    "## 1. Code"
   ]
  },
  {
   "cell_type": "markdown",
   "id": "7795ac6e-db05-4ec0-98e2-9ad97e2fe584",
   "metadata": {},
   "source": [
    "### Compute trend"
   ]
  },
  {
   "cell_type": "code",
   "execution_count": 2,
   "id": "ca188561-8e5a-4d8e-97ce-8d2775e5279d",
   "metadata": {},
   "outputs": [],
   "source": [
    "class significant_test:\n",
    "    def effective_degree_of_freedom(dis, L_decorr = 163e+3):\n",
    "        return dis/L_decorr\n",
    "\n",
    "\n",
    "\n",
    "    def confidence_interval_student_t(sample_mean, sample_std, degrees_freedom, confidence_level=0.95):\n",
    "        \"\"\"confidence level by default is two-sided in scipy\"\"\"\n",
    "\n",
    "        import scipy\n",
    "        sample_standard_error = sample_std/np.sqrt(degrees_freedom)\n",
    "        CI = scipy.stats.t.interval(confidence_level, degrees_freedom, sample_mean, sample_standard_error)\n",
    "        standard_error = sample_standard_error.copy()\n",
    "            \n",
    "        return CI, standard_error\n"
   ]
  },
  {
   "cell_type": "code",
   "execution_count": 3,
   "id": "6c2c632d-8319-4b77-b77d-fd7d69aaefed",
   "metadata": {},
   "outputs": [],
   "source": [
    "class trend_in_blocks:\n",
    "    \"\"\"compute N2 trend, and confidence interval in spacial blocks\"\"\"\n",
    "    \n",
    "    \n",
    "    def trend_n_yr(var, time, n):\n",
    "        \"\"\" trend for 1d or 2d numpy array [time, depth]\n",
    "        time in timedelta64[ns]\n",
    "        need to add significant test feature\"\"\"\n",
    "\n",
    "        from scipy import stats\n",
    "        if len(time[~np.isnan(time)])>0:\n",
    "            tim_sec = (time - time[~np.isnan(time)][0]).astype('timedelta64[s]').astype('float')\n",
    "        else:\n",
    "            tim_sec = (time - time[0]).astype('timedelta64[s]').astype('float')\n",
    "\n",
    "        if len(var.shape) == 1:\n",
    "            bad_indexes = np.isnan(var)\n",
    "            good_indexes = np.logical_not(bad_indexes)\n",
    "            if len(var[good_indexes])>1:\n",
    "                res = stats.linregress(tim_sec[good_indexes], var[good_indexes])\n",
    "                trend_nyr = res.slope*utils.sec_in_yr()*n  \n",
    "            else:\n",
    "                trend_nyr = np.nan\n",
    "\n",
    "        elif len(var.shape) == 2:\n",
    "\n",
    "            trend_nyr = np.zeros(var.shape[1], ) + np.nan\n",
    "            for i in range(var.shape[1]):\n",
    "                bad_indexes = np.isnan(var[:, i])\n",
    "                good_indexes = np.logical_not(bad_indexes)\n",
    "                if len(var[good_indexes, i])>1:\n",
    "                    res = stats.linregress(tim_sec[good_indexes], var[good_indexes, i])\n",
    "                    trend_nyr[i] = res.slope*utils.sec_in_yr()*n       \n",
    "        else:\n",
    "            raise ValueError('var must be 1d or 2d!')\n",
    "\n",
    "        return trend_nyr\n"
   ]
  },
  {
   "cell_type": "markdown",
   "id": "2db55615-66eb-492c-a54f-60dda2e06823",
   "metadata": {},
   "source": [
    "## 2. Main Program"
   ]
  },
  {
   "cell_type": "markdown",
   "id": "2cdc3e6d-dfe1-470f-af5e-df7f205311ee",
   "metadata": {},
   "source": [
    "### Parameters"
   ]
  },
  {
   "cell_type": "code",
   "execution_count": 4,
   "id": "4452e4ef-5806-4f2b-9131-255728ffa0b8",
   "metadata": {},
   "outputs": [],
   "source": [
    "nyr = 10"
   ]
  },
  {
   "cell_type": "markdown",
   "id": "7dc7eecc-663f-40e4-bcf7-6b7da11ea52c",
   "metadata": {},
   "source": [
    "### 1). Atlantic Ocean"
   ]
  },
  {
   "cell_type": "code",
   "execution_count": 5,
   "id": "d89eab50-173a-4d3d-8af4-22738c7d4869",
   "metadata": {},
   "outputs": [],
   "source": [
    "datafilepath = '/Users/stan/Desktop/WORK/DATA/GOSHIP/EasyOcean/gridded/'\n",
    "outfilepath = '/Users/stan/Desktop/WORK/DATA/GOSHIP/EasyOcean/gridded/'\n",
    "\n",
    "acquisition_list = ['A05', 'A02', 'A10', 'A20', 'AR07W', 'AR07E', '75N', 'A16-A23', 'A22', 'A13', 'A12']\n",
    "acquisition_list_ = [ 'A03', ]"
   ]
  },
  {
   "cell_type": "code",
   "execution_count": 6,
   "id": "89770b61-1b67-4527-be4e-cf556a10b791",
   "metadata": {},
   "outputs": [
    {
     "name": "stdout",
     "output_type": "stream",
     "text": [
      "---------- A05 ----------\n",
      "---------- A02 ----------\n",
      "---------- A10 ----------\n",
      "---------- A20 ----------\n",
      "---------- AR07W ----------\n",
      "---------- AR07E ----------\n",
      "---------- 75N ----------\n",
      "---------- A16-A23 ----------\n",
      "---------- A22 ----------\n",
      "---------- A13 ----------\n",
      "---------- A12 ----------\n"
     ]
    }
   ],
   "source": [
    "for acquisition in acquisition_list: \n",
    "    print(10*\"-\", acquisition, 10*\"-\")\n",
    "    if not acquisition.startswith('.'):\n",
    "        acqui_path = datafilepath + acquisition + '/'\n",
    "        Data = xr.open_dataset(outfilepath + acquisition.lower() + \".nc\")\n",
    "        trend_N2 = np.zeros((len(Data.LL), len(Data.z_N2))) + np.nan\n",
    "        trend_CT = np.zeros((len(Data.LL), len(Data.Pressure))) + np.nan\n",
    "        trend_CT_N2 = np.zeros((len(Data.LL), len(Data.z_N2))) + np.nan\n",
    "        for i in range(len(Data.LL)):\n",
    "            for j in range(len(Data.z_N2)): \n",
    "                trend_N2[i,j] = trend_in_blocks.trend_n_yr(Data.N2[:,i,j].data, Data.time[:,i].data.astype('datetime64[ns]'), nyr)\n",
    "                trend_CT_N2[i,j] = trend_in_blocks.trend_n_yr(Data.CT_N2[:,i,j].data, Data.time[:,i].data.astype('datetime64[ns]'), nyr)\n",
    "        data_trend = xr.Dataset({'trend_N2_mean': (['LL_st', 'z_N2'], trend_N2),\n",
    "                                    'trend_CT_mean': (['LL_st', 'z_N2'], trend_CT_N2),},\n",
    "              coords={'LL_st': Data.LL.data,\n",
    "                      'z_N2': Data.z_N2.data},\n",
    "              attrs={'title': 'N2 bin trend'}) \n",
    "\n",
    "        data_trend.to_netcdf(outfilepath + acquisition.lower() + \"_withtrend.nc\")"
   ]
  },
  {
   "cell_type": "markdown",
   "id": "d30c8bf3-b235-4f55-a1ae-c0b870cb446c",
   "metadata": {},
   "source": [
    "### 2). Pacific Ocean"
   ]
  },
  {
   "cell_type": "code",
   "execution_count": 9,
   "id": "8fd0f09a-dc7d-4f22-b3da-e64cac77b9e4",
   "metadata": {},
   "outputs": [],
   "source": [
    "acquisition_list = ['P21', 'P17', 'P10', 'P16', 'P18', 'P02', 'P03', 'P13', 'P14', 'P15', 'P01', 'P06', 'P09', 'P17E']\n",
    "acquisition_list_ = ['P11', 'P04', ]"
   ]
  },
  {
   "cell_type": "code",
   "execution_count": 10,
   "id": "73583752-f9c6-4de5-9fa5-1dbde2de936e",
   "metadata": {},
   "outputs": [
    {
     "name": "stdout",
     "output_type": "stream",
     "text": [
      "---------- P17 ----------\n",
      "---------- P10 ----------\n",
      "---------- P16 ----------\n",
      "---------- P18 ----------\n",
      "---------- P02 ----------\n",
      "---------- P03 ----------\n",
      "---------- P13 ----------\n",
      "---------- P14 ----------\n",
      "---------- P15 ----------\n",
      "---------- P01 ----------\n",
      "---------- P06 ----------\n",
      "---------- P09 ----------\n",
      "---------- P17E ----------\n"
     ]
    }
   ],
   "source": [
    "for acquisition in acquisition_list: \n",
    "    print(10*\"-\", acquisition, 10*\"-\")\n",
    "    if not acquisition.startswith('.'):\n",
    "        acqui_path = datafilepath + acquisition + '/'\n",
    "        Data = xr.open_dataset(outfilepath + acquisition.lower() + \".nc\")\n",
    "        trend_N2 = np.zeros((len(Data.LL), len(Data.z_N2))) + np.nan\n",
    "        trend_CT = np.zeros((len(Data.LL), len(Data.Pressure))) + np.nan\n",
    "        trend_CT_N2 = np.zeros((len(Data.LL), len(Data.z_N2))) + np.nan\n",
    "        for i in range(len(Data.LL)):\n",
    "            for j in range(len(Data.z_N2)): \n",
    "                trend_N2[i,j] = trend_in_blocks.trend_n_yr(Data.N2[:,i,j].data, Data.time[:,i].data.astype('datetime64[ns]'), nyr)\n",
    "                trend_CT_N2[i,j] = trend_in_blocks.trend_n_yr(Data.CT_N2[:,i,j].data, Data.time[:,i].data.astype('datetime64[ns]'), nyr)\n",
    "        data_trend = xr.Dataset({'trend_N2_mean': (['LL_st', 'z_N2'], trend_N2),\n",
    "                                    'trend_CT_mean': (['LL_st', 'z_N2'], trend_CT_N2),},\n",
    "              coords={'LL_st': Data.LL.data,\n",
    "                      'z_N2': Data.z_N2.data},\n",
    "              attrs={'title': 'N2 bin trend'}) \n",
    "\n",
    "        data_trend.to_netcdf(outfilepath + acquisition.lower() + \"_withtrend.nc\")"
   ]
  },
  {
   "cell_type": "markdown",
   "id": "eac1921d-9d23-427f-8a02-79f141384364",
   "metadata": {},
   "source": [
    "### 3). Indian Ocean"
   ]
  },
  {
   "cell_type": "code",
   "execution_count": 13,
   "id": "4615165f-c025-4b47-8f72-ab8283fefcf2",
   "metadata": {},
   "outputs": [],
   "source": [
    "acquisition_list = ['I03-I04', 'I08N', 'I08S-I09N', 'I01', 'I07', 'IR06E', 'I06S', 'I02', 'I05', 'I10', 'I09S', 'IR06']\n",
    "acquisition_list_ = ['IR06-I10',]"
   ]
  },
  {
   "cell_type": "code",
   "execution_count": 14,
   "id": "fec2e3d6-4ea5-4f05-9318-3da98dbb5684",
   "metadata": {},
   "outputs": [
    {
     "name": "stdout",
     "output_type": "stream",
     "text": [
      "---------- I09S ----------\n",
      "---------- IR06 ----------\n"
     ]
    }
   ],
   "source": [
    "for acquisition in acquisition_list: \n",
    "    print(10*\"-\", acquisition, 10*\"-\")\n",
    "    if not acquisition.startswith('.'):\n",
    "        acqui_path = datafilepath + acquisition + '/'\n",
    "        Data = xr.open_dataset(outfilepath + acquisition.lower() + \".nc\")\n",
    "        trend_N2 = np.zeros((len(Data.LL), len(Data.z_N2))) + np.nan\n",
    "        trend_CT = np.zeros((len(Data.LL), len(Data.Pressure))) + np.nan\n",
    "        trend_CT_N2 = np.zeros((len(Data.LL), len(Data.z_N2))) + np.nan\n",
    "        for i in range(len(Data.LL)):\n",
    "            for j in range(len(Data.z_N2)): \n",
    "                trend_N2[i,j] = trend_in_blocks.trend_n_yr(Data.N2[:,i,j].data, Data.time[:,i].data.astype('datetime64[ns]'), nyr)\n",
    "                trend_CT_N2[i,j] = trend_in_blocks.trend_n_yr(Data.CT_N2[:,i,j].data, Data.time[:,i].data.astype('datetime64[ns]'), nyr)\n",
    "        data_trend = xr.Dataset({'trend_N2_mean': (['LL_st', 'z_N2'], trend_N2),\n",
    "                                    'trend_CT_mean': (['LL_st', 'z_N2'], trend_CT_N2),},\n",
    "              coords={'LL_st': Data.LL.data,\n",
    "                      'z_N2': Data.z_N2.data},\n",
    "              attrs={'title': 'N2 bin trend'}) \n",
    "\n",
    "        data_trend.to_netcdf(outfilepath + acquisition.lower() + \"_withtrend.nc\")"
   ]
  },
  {
   "cell_type": "markdown",
   "id": "d3609b8c-5993-41b7-a7fc-151fa768fd25",
   "metadata": {},
   "source": [
    "### 4). Southern Ocean"
   ]
  },
  {
   "cell_type": "code",
   "execution_count": 15,
   "id": "2159f2ca-c99c-43a4-8113-6e6d7eb3e113",
   "metadata": {},
   "outputs": [],
   "source": [
    "acquisition_list = ['S04I', 'SR03', 'SR04', 'S04P', 'SR01']"
   ]
  },
  {
   "cell_type": "code",
   "execution_count": 16,
   "id": "a96512e5-3745-4b53-ad79-f58ef24b1d3b",
   "metadata": {},
   "outputs": [
    {
     "name": "stdout",
     "output_type": "stream",
     "text": [
      "---------- S04I ----------\n",
      "---------- SR03 ----------\n",
      "---------- SR04 ----------\n",
      "---------- S04P ----------\n",
      "---------- SR01 ----------\n"
     ]
    }
   ],
   "source": [
    "for acquisition in acquisition_list: \n",
    "    print(10*\"-\", acquisition, 10*\"-\")\n",
    "    if not acquisition.startswith('.'):\n",
    "        acqui_path = datafilepath + acquisition + '/'\n",
    "        Data = xr.open_dataset(outfilepath + acquisition.lower() + \".nc\")\n",
    "        trend_N2 = np.zeros((len(Data.LL), len(Data.z_N2))) + np.nan\n",
    "        trend_CT = np.zeros((len(Data.LL), len(Data.Pressure))) + np.nan\n",
    "        trend_CT_N2 = np.zeros((len(Data.LL), len(Data.z_N2))) + np.nan\n",
    "        for i in range(len(Data.LL)):\n",
    "            for j in range(len(Data.z_N2)): \n",
    "                trend_N2[i,j] = trend_in_blocks.trend_n_yr(Data.N2[:,i,j].data, Data.time[:,i].data.astype('datetime64[ns]'), nyr)\n",
    "                trend_CT_N2[i,j] = trend_in_blocks.trend_n_yr(Data.CT_N2[:,i,j].data, Data.time[:,i].data.astype('datetime64[ns]'), nyr)\n",
    "        data_trend = xr.Dataset({'trend_N2_mean': (['LL_st', 'z_N2'], trend_N2),\n",
    "                                    'trend_CT_mean': (['LL_st', 'z_N2'], trend_CT_N2),},\n",
    "              coords={'LL_st': Data.LL.data,\n",
    "                      'z_N2': Data.z_N2.data},\n",
    "              attrs={'title': 'N2 bin trend'}) \n",
    "\n",
    "        data_trend.to_netcdf(outfilepath + acquisition.lower() + \"_withtrend.nc\")"
   ]
  },
  {
   "cell_type": "code",
   "execution_count": null,
   "id": "abfb6b87-806e-47a7-90eb-b5ab1247abed",
   "metadata": {},
   "outputs": [],
   "source": []
  }
 ],
 "metadata": {
  "kernelspec": {
   "display_name": "goship",
   "language": "python",
   "name": "goship"
  },
  "language_info": {
   "codemirror_mode": {
    "name": "ipython",
    "version": 3
   },
   "file_extension": ".py",
   "mimetype": "text/x-python",
   "name": "python",
   "nbconvert_exporter": "python",
   "pygments_lexer": "ipython3",
   "version": "3.9.6"
  }
 },
 "nbformat": 4,
 "nbformat_minor": 5
}
